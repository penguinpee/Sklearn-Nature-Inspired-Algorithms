{
 "cells": [
  {
   "cell_type": "code",
   "execution_count": 1,
   "metadata": {
    "colab": {
     "base_uri": "https://localhost:8080/",
     "height": 445
    },
    "colab_type": "code",
    "id": "uVFd6ndPX_0J",
    "outputId": "518aa283-1769-4d7c-c5fa-d98e31adeec2"
   },
   "outputs": [
    {
     "name": "stdout",
     "output_type": "stream",
     "text": [
      "Requirement already satisfied: np in /Users/timzatko/.pyenv/versions/miniconda3-4.7.12/lib/python3.7/site-packages (1.0.2)\n",
      "Requirement already satisfied: sklearn in /Users/timzatko/.pyenv/versions/miniconda3-4.7.12/lib/python3.7/site-packages (0.0)\n",
      "Requirement already satisfied: scikit-learn in /Users/timzatko/.pyenv/versions/miniconda3-4.7.12/lib/python3.7/site-packages (from sklearn) (0.24.2)\n",
      "Requirement already satisfied: scipy>=0.19.1 in /Users/timzatko/.pyenv/versions/miniconda3-4.7.12/lib/python3.7/site-packages (from scikit-learn->sklearn) (1.7.0)\n",
      "Requirement already satisfied: threadpoolctl>=2.0.0 in /Users/timzatko/.pyenv/versions/miniconda3-4.7.12/lib/python3.7/site-packages (from scikit-learn->sklearn) (2.2.0)\n",
      "Requirement already satisfied: numpy>=1.13.3 in /Users/timzatko/.pyenv/versions/miniconda3-4.7.12/lib/python3.7/site-packages (from scikit-learn->sklearn) (1.21.1)\n",
      "Requirement already satisfied: joblib>=0.11 in /Users/timzatko/.pyenv/versions/miniconda3-4.7.12/lib/python3.7/site-packages (from scikit-learn->sklearn) (1.0.1)\n"
     ]
    }
   ],
   "source": [
    "! pip install np\n",
    "! pip install sklearn"
   ]
  },
  {
   "cell_type": "code",
   "execution_count": 2,
   "metadata": {
    "colab": {},
    "colab_type": "code",
    "id": "iRq7N9veX67Z"
   },
   "outputs": [],
   "source": [
    "from sklearn.metrics import classification_report"
   ]
  },
  {
   "cell_type": "markdown",
   "metadata": {
    "colab_type": "text",
    "id": "iAIzDA0bX67c"
   },
   "source": [
    "# Hyper-Parameter Tunning Using Nature Inspired Algorithms "
   ]
  },
  {
   "cell_type": "markdown",
   "metadata": {
    "colab_type": "text",
    "id": "ztnf-m7KZDUg"
   },
   "source": [
    "We will hyper-tune parameters of the RandomForestClassifier."
   ]
  },
  {
   "cell_type": "markdown",
   "metadata": {
    "colab_type": "text",
    "id": "p5oNj0hSaP8D"
   },
   "source": [
    "## Dataset"
   ]
  },
  {
   "cell_type": "code",
   "execution_count": 3,
   "metadata": {
    "colab": {
     "base_uri": "https://localhost:8080/",
     "height": 68
    },
    "colab_type": "code",
    "id": "_yRMWxuLX67d",
    "outputId": "81970368-2388-4576-f9b1-9fa32092bccc"
   },
   "outputs": [
    {
     "name": "stdout",
     "output_type": "stream",
     "text": [
      "train size - 120\n",
      "test size - 30\n"
     ]
    }
   ],
   "source": [
    "import random\n",
    "\n",
    "from sklearn.model_selection import train_test_split\n",
    "from sklearn.datasets import load_iris\n",
    "\n",
    "X, y = load_iris(return_X_y=True, as_frame=False)\n",
    "\n",
    "X_train, X_test, y_train, y_test = train_test_split(X, y, test_size=0.2, random_state=42)\n",
    "\n",
    "print(f'train size - {len(X_train)}\\ntest size - {len(X_test)}')"
   ]
  },
  {
   "cell_type": "markdown",
   "metadata": {
    "colab_type": "text",
    "id": "pTiifVL_X67f"
   },
   "source": [
    "## Hyper-parameters\n",
    "\n",
    "Now, we will define the `param_grid` which we will be optimizing. "
   ]
  },
  {
   "cell_type": "code",
   "execution_count": 4,
   "metadata": {
    "colab": {},
    "colab_type": "code",
    "id": "UiHVmD2PX67g"
   },
   "outputs": [],
   "source": [
    "param_grid = { \n",
    "    'n_estimators': range(20, 100, 2), \n",
    "    'max_depth': range(5, 100, 20),\n",
    "    'min_samples_split': range(2, 10, 5),\n",
    "    'max_features': [\"auto\"],\n",
    "}"
   ]
  },
  {
   "cell_type": "code",
   "execution_count": 5,
   "metadata": {
    "colab": {
     "base_uri": "https://localhost:8080/",
     "height": 34
    },
    "colab_type": "code",
    "id": "EOe-mgdIlMOj",
    "outputId": "b2ba3de0-b311-4b0d-e38c-c797e548a6cd"
   },
   "outputs": [
    {
     "name": "stdout",
     "output_type": "stream",
     "text": [
      "This is 400 combinations in total.\n"
     ]
    }
   ],
   "source": [
    "import numpy as np\n",
    "\n",
    "print(f'This is {np.multiply.reduce([len(param) for param in param_grid.values()])} combinations in total.')"
   ]
  },
  {
   "cell_type": "markdown",
   "metadata": {
    "colab_type": "text",
    "id": "-dgwoKDQX68v"
   },
   "source": [
    "### Optimization"
   ]
  },
  {
   "cell_type": "code",
   "execution_count": 6,
   "metadata": {
    "colab": {},
    "colab_type": "code",
    "id": "EWF9kIikghxo"
   },
   "outputs": [],
   "source": [
    "from sklearn.ensemble import RandomForestClassifier"
   ]
  },
  {
   "cell_type": "code",
   "execution_count": 7,
   "metadata": {
    "colab": {
     "base_uri": "https://localhost:8080/",
     "height": 51
    },
    "colab_type": "code",
    "id": "GSg2ett_X68v",
    "outputId": "4358806b-e098-40d5-fd6a-eb1c7e17e691"
   },
   "outputs": [],
   "source": [
    "import sys\n",
    "sys.path.append('../..')\n",
    "\n",
    "from sklearn_nature_inspired_algorithms.model_selection.nature_inspired_search_cv import NatureInspiredSearchCV\n",
    "from sklearn_nature_inspired_algorithms.helpers import score_by_generation_lineplot"
   ]
  },
  {
   "cell_type": "markdown",
   "metadata": {
    "colab_type": "text",
    "id": "uYPjHAq-bTAX"
   },
   "source": [
    "### Bat Algorithm"
   ]
  },
  {
   "cell_type": "code",
   "execution_count": 8,
   "metadata": {
    "colab": {
     "base_uri": "https://localhost:8080/",
     "height": 68
    },
    "colab_type": "code",
    "id": "fHaK7n49X69g",
    "outputId": "4464a87d-dce2-4c0f-f0bb-117d342730a0"
   },
   "outputs": [
    {
     "name": "stdout",
     "output_type": "stream",
     "text": [
      "Fitting 5 folds for some of the 400 candidates, which might total in 2000 fits\n",
      "Optimization finished, 244 candidates were fitted (totalling 1220 fits)\n",
      "CPU times: user 3.7 s, sys: 212 ms, total: 3.91 s\n",
      "Wall time: 1min 25s\n"
     ]
    },
    {
     "data": {
      "text/plain": [
       "NatureInspiredSearchCV(algorithm='ba', cv=5,\n",
       "                       estimator=RandomForestClassifier(random_state=42),\n",
       "                       max_n_gen=20, max_stagnating_gen=5, n_jobs=-1,\n",
       "                       param_grid={'max_depth': range(5, 100, 20),\n",
       "                                   'max_features': ['auto'],\n",
       "                                   'min_samples_split': range(2, 10, 5),\n",
       "                                   'n_estimators': range(20, 100, 2)},\n",
       "                       population_size=10, random_state=42, runs=5,\n",
       "                       scoring='f1_macro')"
      ]
     },
     "execution_count": 8,
     "metadata": {},
     "output_type": "execute_result"
    }
   ],
   "source": [
    "%%time\n",
    "\n",
    "clf = RandomForestClassifier(random_state=42)\n",
    "\n",
    "nia_search = NatureInspiredSearchCV(\n",
    "    clf,\n",
    "    param_grid,\n",
    "    cv=5,\n",
    "    verbose=0,\n",
    "    algorithm='ba',\n",
    "    population_size=10,\n",
    "    max_n_gen=20,\n",
    "    max_stagnating_gen=5,\n",
    "    runs=5,\n",
    "    n_jobs=-1,\n",
    "    scoring='f1_macro',\n",
    "    random_state=42)\n",
    "\n",
    "nia_search.fit(X_train, y_train)"
   ]
  },
  {
   "cell_type": "code",
   "execution_count": 9,
   "metadata": {
    "colab": {
     "base_uri": "https://localhost:8080/",
     "height": 296
    },
    "colab_type": "code",
    "id": "1VTiD3A_dEqP",
    "outputId": "e36f05eb-9e41-4c68-c4fb-c9b04a6e8c6a"
   },
   "outputs": [
    {
     "data": {
      "text/plain": [
       "<AxesSubplot:xlabel='generation', ylabel='max score'>"
      ]
     },
     "execution_count": 9,
     "metadata": {},
     "output_type": "execute_result"
    },
    {
     "data": {
      "image/png": "[encoded data removed]",
      "text/plain": [
       "<Figure size 432x288 with 1 Axes>"
      ]
     },
     "metadata": {
      "needs_background": "light"
     },
     "output_type": "display_data"
    }
   ],
   "source": [
    "score_by_generation_lineplot(nia_search)"
   ]
  },
  {
   "cell_type": "code",
   "execution_count": 10,
   "metadata": {
    "colab": {
     "base_uri": "https://localhost:8080/",
     "height": 85
    },
    "colab_type": "code",
    "id": "g9qTA5QzX69l",
    "outputId": "171692fe-668f-46c5-bc33-a0c813b5722f"
   },
   "outputs": [
    {
     "data": {
      "text/plain": [
       "{'n_estimators': 80,\n",
       " 'max_depth': 45,\n",
       " 'min_samples_split': 7,\n",
       " 'max_features': 'auto'}"
      ]
     },
     "execution_count": 10,
     "metadata": {},
     "output_type": "execute_result"
    }
   ],
   "source": [
    "nia_search.best_params_"
   ]
  },
  {
   "cell_type": "code",
   "execution_count": 11,
   "metadata": {
    "colab": {
     "base_uri": "https://localhost:8080/",
     "height": 255
    },
    "colab_type": "code",
    "id": "akeXCPiGX69q",
    "outputId": "bf97c4fc-ad82-4a81-a68a-75fc03b2fca2"
   },
   "outputs": [
    {
     "name": "stdout",
     "output_type": "stream",
     "text": [
      "              precision    recall  f1-score   support\n",
      "\n",
      "           0     1.0000    1.0000    1.0000        10\n",
      "           1     1.0000    1.0000    1.0000         9\n",
      "           2     1.0000    1.0000    1.0000        11\n",
      "\n",
      "    accuracy                         1.0000        30\n",
      "   macro avg     1.0000    1.0000    1.0000        30\n",
      "weighted avg     1.0000    1.0000    1.0000        30\n",
      "\n"
     ]
    }
   ],
   "source": [
    "clf = RandomForestClassifier(**nia_search.best_params_, random_state=42)\n",
    "\n",
    "clf.fit(X_train, y_train)\n",
    "\n",
    "y_pred = clf.predict(X_test)\n",
    "\n",
    "print(classification_report(y_test, y_pred, digits=4))"
   ]
  }
 ],
 "metadata": {
  "colab": {
   "collapsed_sections": [],
   "name": "Copy of hyper_parameter_tuning_nia_comparison.ipynb",
   "provenance": []
  },
  "kernelspec": {
   "display_name": "Python 3 (ipykernel)",
   "language": "python",
   "name": "python3"
  },
  "language_info": {
   "codemirror_mode": {
    "name": "ipython",
    "version": 3
   },
   "file_extension": ".py",
   "mimetype": "text/x-python",
   "name": "python",
   "nbconvert_exporter": "python",
   "pygments_lexer": "ipython3",
   "version": "3.7.4"
  }
 },
 "nbformat": 4,
 "nbformat_minor": 1
}
